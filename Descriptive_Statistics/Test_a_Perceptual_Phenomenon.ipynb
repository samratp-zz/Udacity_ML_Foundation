{
 "cells": [
  {
   "cell_type": "markdown",
   "metadata": {},
   "source": [
    "# Test a Perceptual Phenomenon"
   ]
  },
  {
   "cell_type": "markdown",
   "metadata": {},
   "source": [
    "## Statistics: The Science of Decisions Project Instructions"
   ]
  },
  {
   "cell_type": "markdown",
   "metadata": {},
   "source": [
    "### Background Information"
   ]
  },
  {
   "cell_type": "markdown",
   "metadata": {},
   "source": [
    "In a **Stroop task**, participants are presented with a list of words, with each word displayed in a color of ink. The participant’s task is to say out loud the color of the ink in which the word is printed. The task has **two conditions**: **a congruent words condition**, and an **incongruent words condition**. In the congruent words condition, the words being displayed are color words whose names match the colors in which they are printed: for example <span style=\"color:red\">RED</span>, <span style=\"color:blue\">BLUE</span>. In the incongruent words condition, the words displayed are color words whose names do not match the colors in which they are printed: for example <span style=\"color:green\">PURPLE</span>, <span style=\"color:purple\">ORANGE</span>. In each case, **we measure the time it takes to name the ink colors** in equally-sized lists. Each participant will go through and record a time from each condition."
   ]
  },
  {
   "cell_type": "markdown",
   "metadata": {},
   "source": [
    "--------------\n",
    "## Questions For Investigation"
   ]
  },
  {
   "cell_type": "markdown",
   "metadata": {},
   "source": [
    "We will investigae the below questions as part of this project."
   ]
  },
  {
   "cell_type": "markdown",
   "metadata": {},
   "source": [
    "### 1. What is our independent variable? What is our dependent variable?"
   ]
  },
  {
   "cell_type": "markdown",
   "metadata": {},
   "source": [
    "**Answer** - From the above background information we can see that we have 2 independent variables and a dependent variable.\n",
    "\n",
    "- Independent Variables -> Congruent Words Condition and Incongruent Words Condition\n",
    "- Dependent Variable -> Time it takes to name the Ink Colors"
   ]
  },
  {
   "cell_type": "markdown",
   "metadata": {},
   "source": [
    "### 2. What is an appropriate set of hypotheses for this task? What kind of statistical test do you expect to perform? Justify your choices."
   ]
  },
  {
   "cell_type": "markdown",
   "metadata": {},
   "source": [
    "**Answer**\n",
    "\n",
    "Appropriate set of hypotheses for this task.\n",
    "\n",
    "* $\\mu_{0}$ - Time it takes to name the ink colors for both congruent and incongruent words is the same.\n",
    "* $\\mu_{a}$ - Time it takes to name the ink colors for both congruent and incongruent words is **not** the same.\n",
    "\n",
    "Statistical test that can be performed on this data\n",
    "\n",
    "* We can perform a 2 sample t-test on this data as we are trying to test for the difference between two independent variables."
   ]
  },
  {
   "cell_type": "markdown",
   "metadata": {},
   "source": [
    "-------------\n",
    "Now it’s your chance to try out the Stroop task for yourself. Go to <a href=\"https://faculty.washington.edu/chudler/java/ready.html\">this link</a>, which has a Java-based applet for performing the Stroop task. Record the times that you received on the task (you do not need to submit your times to the site.) Now, download <a href=\"https://drive.google.com/file/d/0B9Yf01UaIbUgQXpYb2NhZ29yX1U/view\">this dataset</a> which contains results from a number of participants in the task. Each row of the dataset contains the performance for one participant, with the first number their results on the congruent task and the second number their performance on the incongruent task."
   ]
  },
  {
   "cell_type": "code",
   "execution_count": 22,
   "metadata": {
    "collapsed": true
   },
   "outputs": [],
   "source": [
    "import pandas as pd\n",
    "import numpy as np\n",
    "\n",
    "import matplotlib.pyplot as plt\n",
    "\n",
    "%matplotlib inline"
   ]
  },
  {
   "cell_type": "code",
   "execution_count": 6,
   "metadata": {},
   "outputs": [
    {
     "name": "stdout",
     "output_type": "stream",
     "text": [
      "Shape of the DataFrame is -> (24, 2)\n"
     ]
    },
    {
     "data": {
      "text/html": [
       "<div>\n",
       "<style>\n",
       "    .dataframe thead tr:only-child th {\n",
       "        text-align: right;\n",
       "    }\n",
       "\n",
       "    .dataframe thead th {\n",
       "        text-align: left;\n",
       "    }\n",
       "\n",
       "    .dataframe tbody tr th {\n",
       "        vertical-align: top;\n",
       "    }\n",
       "</style>\n",
       "<table border=\"1\" class=\"dataframe\">\n",
       "  <thead>\n",
       "    <tr style=\"text-align: right;\">\n",
       "      <th></th>\n",
       "      <th>Congruent</th>\n",
       "      <th>Incongruent</th>\n",
       "    </tr>\n",
       "  </thead>\n",
       "  <tbody>\n",
       "    <tr>\n",
       "      <th>0</th>\n",
       "      <td>12.079</td>\n",
       "      <td>19.278</td>\n",
       "    </tr>\n",
       "    <tr>\n",
       "      <th>1</th>\n",
       "      <td>16.791</td>\n",
       "      <td>18.741</td>\n",
       "    </tr>\n",
       "    <tr>\n",
       "      <th>2</th>\n",
       "      <td>9.564</td>\n",
       "      <td>21.214</td>\n",
       "    </tr>\n",
       "    <tr>\n",
       "      <th>3</th>\n",
       "      <td>8.630</td>\n",
       "      <td>15.687</td>\n",
       "    </tr>\n",
       "    <tr>\n",
       "      <th>4</th>\n",
       "      <td>14.669</td>\n",
       "      <td>22.803</td>\n",
       "    </tr>\n",
       "    <tr>\n",
       "      <th>5</th>\n",
       "      <td>12.238</td>\n",
       "      <td>20.878</td>\n",
       "    </tr>\n",
       "    <tr>\n",
       "      <th>6</th>\n",
       "      <td>14.692</td>\n",
       "      <td>24.572</td>\n",
       "    </tr>\n",
       "    <tr>\n",
       "      <th>7</th>\n",
       "      <td>8.987</td>\n",
       "      <td>17.394</td>\n",
       "    </tr>\n",
       "    <tr>\n",
       "      <th>8</th>\n",
       "      <td>9.401</td>\n",
       "      <td>20.762</td>\n",
       "    </tr>\n",
       "    <tr>\n",
       "      <th>9</th>\n",
       "      <td>14.480</td>\n",
       "      <td>26.282</td>\n",
       "    </tr>\n",
       "    <tr>\n",
       "      <th>10</th>\n",
       "      <td>22.328</td>\n",
       "      <td>24.524</td>\n",
       "    </tr>\n",
       "    <tr>\n",
       "      <th>11</th>\n",
       "      <td>15.298</td>\n",
       "      <td>18.644</td>\n",
       "    </tr>\n",
       "    <tr>\n",
       "      <th>12</th>\n",
       "      <td>15.073</td>\n",
       "      <td>17.510</td>\n",
       "    </tr>\n",
       "    <tr>\n",
       "      <th>13</th>\n",
       "      <td>16.929</td>\n",
       "      <td>20.330</td>\n",
       "    </tr>\n",
       "    <tr>\n",
       "      <th>14</th>\n",
       "      <td>18.200</td>\n",
       "      <td>35.255</td>\n",
       "    </tr>\n",
       "    <tr>\n",
       "      <th>15</th>\n",
       "      <td>12.130</td>\n",
       "      <td>22.158</td>\n",
       "    </tr>\n",
       "    <tr>\n",
       "      <th>16</th>\n",
       "      <td>18.495</td>\n",
       "      <td>25.139</td>\n",
       "    </tr>\n",
       "    <tr>\n",
       "      <th>17</th>\n",
       "      <td>10.639</td>\n",
       "      <td>20.429</td>\n",
       "    </tr>\n",
       "    <tr>\n",
       "      <th>18</th>\n",
       "      <td>11.344</td>\n",
       "      <td>17.425</td>\n",
       "    </tr>\n",
       "    <tr>\n",
       "      <th>19</th>\n",
       "      <td>12.369</td>\n",
       "      <td>34.288</td>\n",
       "    </tr>\n",
       "    <tr>\n",
       "      <th>20</th>\n",
       "      <td>12.944</td>\n",
       "      <td>23.894</td>\n",
       "    </tr>\n",
       "    <tr>\n",
       "      <th>21</th>\n",
       "      <td>14.233</td>\n",
       "      <td>17.960</td>\n",
       "    </tr>\n",
       "    <tr>\n",
       "      <th>22</th>\n",
       "      <td>19.710</td>\n",
       "      <td>22.058</td>\n",
       "    </tr>\n",
       "    <tr>\n",
       "      <th>23</th>\n",
       "      <td>16.004</td>\n",
       "      <td>21.157</td>\n",
       "    </tr>\n",
       "  </tbody>\n",
       "</table>\n",
       "</div>"
      ],
      "text/plain": [
       "    Congruent  Incongruent\n",
       "0      12.079       19.278\n",
       "1      16.791       18.741\n",
       "2       9.564       21.214\n",
       "3       8.630       15.687\n",
       "4      14.669       22.803\n",
       "5      12.238       20.878\n",
       "6      14.692       24.572\n",
       "7       8.987       17.394\n",
       "8       9.401       20.762\n",
       "9      14.480       26.282\n",
       "10     22.328       24.524\n",
       "11     15.298       18.644\n",
       "12     15.073       17.510\n",
       "13     16.929       20.330\n",
       "14     18.200       35.255\n",
       "15     12.130       22.158\n",
       "16     18.495       25.139\n",
       "17     10.639       20.429\n",
       "18     11.344       17.425\n",
       "19     12.369       34.288\n",
       "20     12.944       23.894\n",
       "21     14.233       17.960\n",
       "22     19.710       22.058\n",
       "23     16.004       21.157"
      ]
     },
     "execution_count": 6,
     "metadata": {},
     "output_type": "execute_result"
    }
   ],
   "source": [
    "# Read the data set\n",
    "df = pd.read_csv('stroopdata.csv')\n",
    "\n",
    "# Print the shape of the data\n",
    "print(\"Shape of the DataFrame is -> \" + str(df.shape))\n",
    "\n",
    "# Show the data\n",
    "df.head(n=24)"
   ]
  },
  {
   "cell_type": "code",
   "execution_count": 7,
   "metadata": {},
   "outputs": [
    {
     "data": {
      "text/html": [
       "<div>\n",
       "<style>\n",
       "    .dataframe thead tr:only-child th {\n",
       "        text-align: right;\n",
       "    }\n",
       "\n",
       "    .dataframe thead th {\n",
       "        text-align: left;\n",
       "    }\n",
       "\n",
       "    .dataframe tbody tr th {\n",
       "        vertical-align: top;\n",
       "    }\n",
       "</style>\n",
       "<table border=\"1\" class=\"dataframe\">\n",
       "  <thead>\n",
       "    <tr style=\"text-align: right;\">\n",
       "      <th></th>\n",
       "      <th>Congruent</th>\n",
       "      <th>Incongruent</th>\n",
       "    </tr>\n",
       "  </thead>\n",
       "  <tbody>\n",
       "    <tr>\n",
       "      <th>count</th>\n",
       "      <td>24.000000</td>\n",
       "      <td>24.000000</td>\n",
       "    </tr>\n",
       "    <tr>\n",
       "      <th>mean</th>\n",
       "      <td>14.051125</td>\n",
       "      <td>22.015917</td>\n",
       "    </tr>\n",
       "    <tr>\n",
       "      <th>std</th>\n",
       "      <td>3.559358</td>\n",
       "      <td>4.797057</td>\n",
       "    </tr>\n",
       "    <tr>\n",
       "      <th>min</th>\n",
       "      <td>8.630000</td>\n",
       "      <td>15.687000</td>\n",
       "    </tr>\n",
       "    <tr>\n",
       "      <th>25%</th>\n",
       "      <td>11.895250</td>\n",
       "      <td>18.716750</td>\n",
       "    </tr>\n",
       "    <tr>\n",
       "      <th>50%</th>\n",
       "      <td>14.356500</td>\n",
       "      <td>21.017500</td>\n",
       "    </tr>\n",
       "    <tr>\n",
       "      <th>75%</th>\n",
       "      <td>16.200750</td>\n",
       "      <td>24.051500</td>\n",
       "    </tr>\n",
       "    <tr>\n",
       "      <th>max</th>\n",
       "      <td>22.328000</td>\n",
       "      <td>35.255000</td>\n",
       "    </tr>\n",
       "  </tbody>\n",
       "</table>\n",
       "</div>"
      ],
      "text/plain": [
       "       Congruent  Incongruent\n",
       "count  24.000000    24.000000\n",
       "mean   14.051125    22.015917\n",
       "std     3.559358     4.797057\n",
       "min     8.630000    15.687000\n",
       "25%    11.895250    18.716750\n",
       "50%    14.356500    21.017500\n",
       "75%    16.200750    24.051500\n",
       "max    22.328000    35.255000"
      ]
     },
     "execution_count": 7,
     "metadata": {},
     "output_type": "execute_result"
    }
   ],
   "source": [
    "# Describe the data\n",
    "df.describe()"
   ]
  },
  {
   "cell_type": "markdown",
   "metadata": {},
   "source": [
    "### 3. Report some descriptive statistics regarding this dataset. Include at least one measure of central tendency and at least one measure of variability."
   ]
  },
  {
   "cell_type": "code",
   "execution_count": 21,
   "metadata": {},
   "outputs": [
    {
     "name": "stdout",
     "output_type": "stream",
     "text": [
      "Measures of central tendency\n",
      "-----------\n",
      "Mean of Congruent Data -> 14.051125000000004\n",
      "Mean of Incongruent Data -> 22.01591666666667\n",
      "\n",
      "\n",
      "Median of Congruent Data -> 14.3565\n",
      "Median of Incongruent Data -> 21.0175\n",
      "\n",
      "\n",
      "Measures of Variability\n",
      "-----------\n",
      "Range of Congruent Data -> 13.698\n",
      "Range of Incongruent Data -> 19.568\n",
      "\n",
      "\n",
      "Standard Deviation of Congruent Data -> 3.559357957645195\n",
      "Standard Deviation of Incongruent Data -> 4.797057122469138\n"
     ]
    }
   ],
   "source": [
    "# Print measures of central tendency\n",
    "# mean\n",
    "print(\"Measures of central tendency\")\n",
    "print(\"-----------\")\n",
    "mean_congruent = np.mean(df['Congruent'])\n",
    "mean_incongruent = np.mean(df['Incongruent'])\n",
    "\n",
    "print(\"Mean of Congruent Data -> \" + str(mean_congruent))\n",
    "print(\"Mean of Incongruent Data -> \" + str(mean_incongruent))\n",
    "print(\"\\n\")\n",
    "\n",
    "# median\n",
    "median_congruent = np.median(df['Congruent'])\n",
    "median_incongruent = np.median(df['Incongruent'])\n",
    "\n",
    "print(\"Median of Congruent Data -> \" + str(median_congruent))\n",
    "print(\"Median of Incongruent Data -> \" + str(median_incongruent))\n",
    "print(\"\\n\")\n",
    "\n",
    "# Print measures of variability\n",
    "# range\n",
    "print(\"Measures of Variability\")\n",
    "print(\"-----------\")\n",
    "range_congruent = np.ptp(df['Congruent'])\n",
    "range_incongruent = np.ptp(df['Incongruent'])\n",
    "\n",
    "print(\"Range of Congruent Data -> \" + str(range_congruent))\n",
    "print(\"Range of Incongruent Data -> \" + str(range_incongruent))\n",
    "print(\"\\n\")\n",
    "\n",
    "# standard deviation\n",
    "std_congruent = np.std(df['Congruent'], ddof = 1)\n",
    "std_incongruent = np.std(df['Incongruent'], ddof = 1)\n",
    "\n",
    "print(\"Standard Deviation of Congruent Data -> \" + str(std_congruent))\n",
    "print(\"Standard Deviation of Incongruent Data -> \" + str(std_incongruent))"
   ]
  },
  {
   "cell_type": "markdown",
   "metadata": {},
   "source": [
    "### 4. Provide one or two visualizations that show the distribution of the sample data. Write one or two sentences noting what you observe about the plot or plots."
   ]
  },
  {
   "cell_type": "code",
   "execution_count": 91,
   "metadata": {},
   "outputs": [
    {
     "data": {
      "image/png": "[encoded data removed]",
      "text/plain": [
       "<matplotlib.figure.Figure at 0xbeee0b8>"
      ]
     },
     "metadata": {},
     "output_type": "display_data"
    }
   ],
   "source": [
    "fig, ax = plt.subplots(figsize=(10, 6))\n",
    "\n",
    "ax.hist(df['Congruent'], bins = 35, color='salmon', alpha=0.5)\n",
    "ax.hist(df['Incongruent'], bins = 35, color='lightblue', alpha=0.5)\n",
    "\n",
    "ax.set(title='Comparing Congruent and Incongruent Response Times', ylabel='No. of Observations', xlabel = 'Response Time in Sec')\n",
    "ax.margins(0.05)\n",
    "ax.set_ylim(bottom=0)\n",
    "plt.show()"
   ]
  },
  {
   "cell_type": "markdown",
   "metadata": {},
   "source": [
    "- From the above histogram we could see that Congruent observation times lie between 8 and 22 whereas Incongruent observations lie between 16 and 35.\n",
    "- Most of the observations for Congruent data lies between 12 and 17. For Incongruent data most of the observations lie between 17 and 25.\n",
    "- For Incongruent data the 2 extreme data points at 35 seconds could be potential outliers."
   ]
  },
  {
   "cell_type": "markdown",
   "metadata": {},
   "source": [
    "We will draw a box plot below to get better insights of the data."
   ]
  },
  {
   "cell_type": "code",
   "execution_count": 110,
   "metadata": {},
   "outputs": [
    {
     "data": {
      "image/png": "[encoded data removed]",
      "text/plain": [
       "<matplotlib.figure.Figure at 0xd8cc7b8>"
      ]
     },
     "metadata": {},
     "output_type": "display_data"
    }
   ],
   "source": [
    "fig, ax = plt.subplots(figsize=(10, 6))\n",
    "\n",
    "bp = plt.boxplot([df['Congruent'], df['Incongruent']], vert = False, widths = 0.25, labels = ['Congruent', 'Incongruent'])\n",
    "\n",
    "ax.set(title='Comparing Congruent and Incongruent Response Times', ylabel='Features', xlabel = 'Response Time in Sec')\n",
    "ax.xaxis.grid(True, linestyle='-', which='major', color='lightgrey', alpha=0.5)\n",
    "ax.yaxis.grid(True, linestyle='-', which='major', color='lightgrey', alpha=0.5)\n",
    "plt.setp(bp['boxes'], color='blue')\n",
    "plt.setp(bp['whiskers'], color='blue')\n",
    "plt.setp(bp['fliers'], color='green', marker='+')\n",
    "plt.show()"
   ]
  },
  {
   "cell_type": "markdown",
   "metadata": {},
   "source": [
    "From the above boxplot we could clearly see that Incongruent data indeed has got 2 outliers."
   ]
  },
  {
   "cell_type": "markdown",
   "metadata": {},
   "source": [
    "### 5. Now, perform the statistical test and report your results. What is your confidence level and your critical statistic value? Do you reject the null hypothesis or fail to reject it? Come to a conclusion in terms of the experiment task. Did the results match up with your expectations?"
   ]
  },
  {
   "cell_type": "markdown",
   "metadata": {},
   "source": [
    "We will now perform a t-test on the data to check if we have to \"reject the null hypothesis\" or \"fail to reject the null hypothesis\".\n",
    "\n",
    "* The degrees of freedom for this data is 23 as n = 24\n",
    "* We will assume a confidence level of 90% for this 2-tailed test.\n",
    "* The t-critical for df=23 and p=0.25 is $\\pm$ 2.069\n",
    "* Mean of Congruent data points = 14.051\n",
    "* Mean of Incongruent data points = 22.016\n",
    "* Point of estimate for $\\mu_{C}$ - $\\mu_{I}$ = -7.965\n",
    "* Standard Deviation S = 4.865 and n = 24\n",
    "\n",
    "$$\n",
    "\\Large\n",
    "t = \\frac{\\mu_{C} - \\mu_{I}}{\\frac{S}{\\sqrt{n}}}\n",
    "$$\n",
    "\n",
    "**t-statistical = -8.021 **\n",
    "\n",
    "> As the t-statistical value is greater than the t-critical we will **reject** the null hypothesis"
   ]
  },
  {
   "cell_type": "markdown",
   "metadata": {},
   "source": [
    "### 6. Optional: What do you think is responsible for the effects observed? Can you think of an alternative or similar task that would result in a similar effect? Some research about the problem will be helpful for thinking about these two questions!"
   ]
  },
  {
   "cell_type": "markdown",
   "metadata": {
    "collapsed": true
   },
   "source": [
    "_What do you think is responsible for the effects observed?_ - Without going in to any Mathematical, Physcological or Scientific reasoning we can clearly see that while reading **Congruent words** we are seeing and reading the same thing and thus our brain is doing a single task at a faster speed. But with **Incongruent words** the brain is trying to do two things - reading the word and identifying the color which are different thus affecting the speed with which it can process the things.\n",
    "\n",
    "There are also Theories like **Processing speed**, **Selective attention**, **Automaticity**, **Parallel distributed processing** that talk about the reasons why there is a difference in reaction time for both the activities.\n",
    "\n",
    "_Can you think of an alternative or similar task that would result in a similar effect?_ - Tasks that would result in a similar effect would be - The Reverse Stroop Effect, Hayling and Brixton tests and Rey–Osterrieth complex figure."
   ]
  },
  {
   "cell_type": "markdown",
   "metadata": {},
   "source": [
    "------------\n",
    "\n",
    "References\n",
    "\n",
    "1. https://en.wikipedia.org/wiki/Stroop_effect\n",
    "2. https://onlinecourses.science.psu.edu/statprogram/node/136"
   ]
  }
 ],
 "metadata": {
  "kernelspec": {
   "display_name": "Python 3",
   "language": "python",
   "name": "python3"
  },
  "language_info": {
   "codemirror_mode": {
    "name": "ipython",
    "version": 3
   },
   "file_extension": ".py",
   "mimetype": "text/x-python",
   "name": "python",
   "nbconvert_exporter": "python",
   "pygments_lexer": "ipython3",
   "version": "3.6.0"
  }
 },
 "nbformat": 4,
 "nbformat_minor": 2
}
